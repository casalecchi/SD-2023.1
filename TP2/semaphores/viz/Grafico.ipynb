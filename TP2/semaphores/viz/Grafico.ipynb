{
 "cells": [
  {
   "cell_type": "code",
   "execution_count": 1,
   "id": "146b4f2f",
   "metadata": {},
   "outputs": [],
   "source": [
    "import pandas as pd"
   ]
  },
  {
   "cell_type": "code",
   "execution_count": 2,
   "id": "2fb58f3b",
   "metadata": {},
   "outputs": [],
   "source": [
    "grafico = pd.DataFrame()"
   ]
  },
  {
   "cell_type": "code",
   "execution_count": 3,
   "id": "c9114170",
   "metadata": {},
   "outputs": [
    {
     "data": {
      "text/html": [
       "<div>\n",
       "<style scoped>\n",
       "    .dataframe tbody tr th:only-of-type {\n",
       "        vertical-align: middle;\n",
       "    }\n",
       "\n",
       "    .dataframe tbody tr th {\n",
       "        vertical-align: top;\n",
       "    }\n",
       "\n",
       "    .dataframe thead th {\n",
       "        text-align: right;\n",
       "    }\n",
       "</style>\n",
       "<table border=\"1\" class=\"dataframe\">\n",
       "  <thead>\n",
       "    <tr style=\"text-align: right;\">\n",
       "      <th></th>\n",
       "    </tr>\n",
       "  </thead>\n",
       "  <tbody>\n",
       "  </tbody>\n",
       "</table>\n",
       "</div>"
      ],
      "text/plain": [
       "Empty DataFrame\n",
       "Columns: []\n",
       "Index: []"
      ]
     },
     "execution_count": 3,
     "metadata": {},
     "output_type": "execute_result"
    }
   ],
   "source": [
    "grafico"
   ]
  },
  {
   "cell_type": "code",
   "execution_count": 4,
   "id": "f0b8bd0d",
   "metadata": {},
   "outputs": [],
   "source": [
    "grafico[\"N\"] = [1, 10, 100, 1000]"
   ]
  },
  {
   "cell_type": "code",
   "execution_count": 7,
   "id": "98b5753f",
   "metadata": {},
   "outputs": [],
   "source": [
    "grafico = grafico.set_index([\"N\"])"
   ]
  },
  {
   "cell_type": "code",
   "execution_count": 8,
   "id": "9e2ce6a8",
   "metadata": {},
   "outputs": [],
   "source": [
    "grafico[\"[1, 1]\"] = [37.471, 37.442, 37.503, 37.362]"
   ]
  },
  {
   "cell_type": "code",
   "execution_count": 17,
   "id": "16e5a25b",
   "metadata": {},
   "outputs": [],
   "source": [
    "grafico[\"[1, 2]\"] = [19.350, 19.372, 19.170, 19.201]"
   ]
  },
  {
   "cell_type": "code",
   "execution_count": 22,
   "id": "4d753728",
   "metadata": {},
   "outputs": [],
   "source": [
    "grafico[\"[1, 4]\"] = [10.021, 9.876, 9.987, 9.978]"
   ]
  },
  {
   "cell_type": "code",
   "execution_count": 27,
   "id": "86e83eeb",
   "metadata": {},
   "outputs": [],
   "source": [
    "grafico[\"[1, 8]\"] = [5.233, 5.064, 5.086, 5.095]"
   ]
  },
  {
   "cell_type": "code",
   "execution_count": 31,
   "id": "363d4d88",
   "metadata": {},
   "outputs": [
    {
     "data": {
      "text/plain": [
       "<Axes: >"
      ]
     },
     "execution_count": 31,
     "metadata": {},
     "output_type": "execute_result"
    },
    {
     "data": {
      "image/png": "[encoded data removed]",
      "text/plain": [
       "<Figure size 640x480 with 1 Axes>"
      ]
     },
     "metadata": {},
     "output_type": "display_data"
    }
   ],
   "source": [
    "import matplotlib.pyplot as plt\n",
    "grafico.T.plot()"
   ]
  },
  {
   "cell_type": "code",
   "execution_count": null,
   "id": "f885ed58",
   "metadata": {},
   "outputs": [],
   "source": [
    "media = (5.10477 +\n",
    "5.04286 +\n",
    "5.11679 +\n",
    "5.15179 +\n",
    "5.17306 +\n",
    "5.08813 +\n",
    "5.22554 +\n",
    "5.03340 +\n",
    "4.98012 +\n",
    "5.02929 ) / 10\n",
    "media"
   ]
  },
  {
   "cell_type": "code",
   "execution_count": null,
   "id": "5910308e",
   "metadata": {},
   "outputs": [],
   "source": [
    "grafico[\"[2, 1]\"] = []"
   ]
  }
 ],
 "metadata": {
  "kernelspec": {
   "display_name": "Python 3 (ipykernel)",
   "language": "python",
   "name": "python3"
  },
  "language_info": {
   "codemirror_mode": {
    "name": "ipython",
    "version": 3
   },
   "file_extension": ".py",
   "mimetype": "text/x-python",
   "name": "python",
   "nbconvert_exporter": "python",
   "pygments_lexer": "ipython3",
   "version": "3.11.3"
  }
 },
 "nbformat": 4,
 "nbformat_minor": 5
}
